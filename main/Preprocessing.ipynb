{
 "cells": [
  {
   "cell_type": "code",
   "execution_count": 56,
   "id": "32ebaa23-5b2b-40a9-aea2-115b1167cee4",
   "metadata": {},
   "outputs": [
    {
     "name": "stdout",
     "output_type": "stream",
     "text": [
      "The autoreload extension is already loaded. To reload it, use:\n",
      "  %reload_ext autoreload\n"
     ]
    }
   ],
   "source": [
    "%load_ext autoreload\n",
    "%autoreload 2\n",
    "%matplotlib inline"
   ]
  },
  {
   "cell_type": "code",
   "execution_count": 57,
   "id": "84ed07e8-885c-4906-853a-2bed788f5222",
   "metadata": {},
   "outputs": [],
   "source": [
    "import pandas as pd\n",
    "import numpy as np\n",
    "from utils.preprocessing_util import *"
   ]
  },
  {
   "cell_type": "code",
   "execution_count": 58,
   "id": "b18d6db8-d0e8-4eb6-8502-85d4a2f1dd91",
   "metadata": {},
   "outputs": [],
   "source": [
    "import warnings\n",
    "warnings.simplefilter(action='ignore', category=FutureWarning)"
   ]
  },
  {
   "cell_type": "code",
   "execution_count": 59,
   "id": "0b3fb10c-ef5f-496c-a417-4c873644a57a",
   "metadata": {},
   "outputs": [],
   "source": [
    "df = pd.read_csv('../data/train.csv')"
   ]
  },
  {
   "cell_type": "code",
   "execution_count": 60,
   "id": "ba6d2c2e-b1f3-4461-8f01-2d31e13baa26",
   "metadata": {},
   "outputs": [
    {
     "name": "stdout",
     "output_type": "stream",
     "text": [
      "  rent_approval_date             town block            street_name flat_type  \\\n",
      "0            2021-09      jurong east   257  Jurong East Street 24         3   \n",
      "1            2022-05            bedok   119       bedok north road         4   \n",
      "2            2022-10        toa payoh   157     lorong 1 toa payoh         3   \n",
      "3            2021-08        pasir ris   250    Pasir Ris Street 21         6   \n",
      "4            2022-11  kallang/whampoa    34           Whampoa West         3   \n",
      "5            2023-04    bukit panjang   654             Senja Road         6   \n",
      "6            2021-01         sengkang  407b          fernvale road         5   \n",
      "7            2022-06       ang mo kio   223    ang mo kio avenue 1         3   \n",
      "8            2021-10           bishan   149       bishan street 11         4   \n",
      "9            2021-04          punggol   133        edgedale plains         5   \n",
      "\n",
      "   flat_model  floor_area_sqm  lease_commence_date  latitude   longitude  \\\n",
      "0        2370            67.0                 1983  1.344518  103.738630   \n",
      "1        2370            92.0                 1978  1.330186  103.938717   \n",
      "2        2636            67.0                 1971  1.332242  103.845643   \n",
      "3        2879           149.0                 1993  1.370239  103.962894   \n",
      "4        2636            68.0                 1972  1.320502  103.863341   \n",
      "5        2710           130.0                 2001  1.387847  103.764249   \n",
      "6        2710           110.0                 2005  1.388997  103.875148   \n",
      "7        2370            67.0                 1978  1.366048  103.838123   \n",
      "8        2465            84.0                 1987  1.344279  103.855556   \n",
      "9        2710           112.0                 2003  1.392832  103.910620   \n",
      "\n",
      "             subzone  planning_area             region  monthly_rent  \n",
      "0         yuhua east    jurong east        west region          1600  \n",
      "1        bedok north          bedok        east region          2250  \n",
      "2  toa payoh central      toa payoh     central region          1900  \n",
      "3    pasir ris drive      pasir ris        east region          2850  \n",
      "4          bendemeer        kallang     central region          2100  \n",
      "5            saujana  bukit panjang        west region          2300  \n",
      "6           fernvale       sengkang  north-east region          2100  \n",
      "7         shangri-la     ang mo kio  north-east region          2300  \n",
      "8        bishan east         bishan     central region          2100  \n",
      "9      punggol field        punggol  north-east region          2100  \n"
     ]
    }
   ],
   "source": [
    "# Drop columns with no significance\n",
    "df = df.drop('furnished', axis=1)\n",
    "df = df.drop('elevation', axis=1)\n",
    "\n",
    "# Numeric encoding\n",
    "clean_replace_numeric(df, 'flat_type', '2', 2)\n",
    "clean_replace_numeric(df, 'flat_type', '3', 3)\n",
    "clean_replace_numeric(df, 'flat_type', '4', 4)\n",
    "clean_replace_numeric(df, 'flat_type', '5', 5)\n",
    "clean_replace_numeric(df, 'flat_type', 'executive', 6)\n",
    "\n",
    "# Target encoding\n",
    "target_encode(df, 'flat_model')\n",
    "format_integer(df, 'flat_model')\n",
    "\n",
    "# Perform other preprocessing steps...\n",
    "\n",
    "# Done preprocessing\n",
    "print(df.head(10))"
   ]
  },
  {
   "cell_type": "code",
   "execution_count": null,
   "id": "f1321b30-befa-424b-9769-1c479f3d6dd8",
   "metadata": {},
   "outputs": [],
   "source": []
  }
 ],
 "metadata": {
  "kernelspec": {
   "display_name": "Python 3 (ipykernel)",
   "language": "python",
   "name": "python3"
  },
  "language_info": {
   "codemirror_mode": {
    "name": "ipython",
    "version": 3
   },
   "file_extension": ".py",
   "mimetype": "text/x-python",
   "name": "python",
   "nbconvert_exporter": "python",
   "pygments_lexer": "ipython3",
   "version": "3.11.5"
  }
 },
 "nbformat": 4,
 "nbformat_minor": 5
}
