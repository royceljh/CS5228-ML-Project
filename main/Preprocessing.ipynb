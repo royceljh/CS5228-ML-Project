{
 "cells": [
  {
   "cell_type": "code",
   "execution_count": 6,
   "id": "32ebaa23-5b2b-40a9-aea2-115b1167cee4",
   "metadata": {},
   "outputs": [
    {
     "name": "stdout",
     "output_type": "stream",
     "text": [
      "The autoreload extension is already loaded. To reload it, use:\n",
      "  %reload_ext autoreload\n"
     ]
    }
   ],
   "source": [
    "%load_ext autoreload\n",
    "%autoreload 2\n",
    "%matplotlib inline"
   ]
  },
  {
   "cell_type": "code",
   "execution_count": 12,
   "id": "84ed07e8-885c-4906-853a-2bed788f5222",
   "metadata": {},
   "outputs": [],
   "source": [
    "import pandas as pd\n",
    "import numpy as np\n",
    "from utils.preprocessing_util import *"
   ]
  },
  {
   "cell_type": "code",
   "execution_count": 13,
   "id": "b18d6db8-d0e8-4eb6-8502-85d4a2f1dd91",
   "metadata": {},
   "outputs": [],
   "source": [
    "import warnings\n",
    "warnings.simplefilter(action='ignore', category=FutureWarning)"
   ]
  },
  {
   "cell_type": "code",
   "execution_count": 14,
   "id": "0b3fb10c-ef5f-496c-a417-4c873644a57a",
   "metadata": {},
   "outputs": [],
   "source": [
    "df = pd.read_csv('../data/train.csv')"
   ]
  },
  {
   "cell_type": "code",
   "execution_count": 15,
   "id": "ba6d2c2e-b1f3-4461-8f01-2d31e13baa26",
   "metadata": {},
   "outputs": [
    {
     "name": "stdout",
     "output_type": "stream",
     "text": [
      "  rent_approval_date             town block            street_name flat_type  \\\n",
      "0            2021-09      jurong east   257  Jurong East Street 24         3   \n",
      "1            2022-05            bedok   119       bedok north road         4   \n",
      "2            2022-10        toa payoh   157     lorong 1 toa payoh         3   \n",
      "3            2021-08        pasir ris   250    Pasir Ris Street 21         6   \n",
      "4            2022-11  kallang/whampoa    34           Whampoa West         3   \n",
      "5            2023-04    bukit panjang   654             Senja Road         6   \n",
      "6            2021-01         sengkang  407b          fernvale road         5   \n",
      "7            2022-06       ang mo kio   223    ang mo kio avenue 1         3   \n",
      "8            2021-10           bishan   149       bishan street 11         4   \n",
      "9            2021-04          punggol   133        edgedale plains         5   \n",
      "\n",
      "   flat_model  floor_area_sqm furnished  lease_commence_date  latitude  \\\n",
      "0      2370.0            67.0       yes                 1983  1.344518   \n",
      "1      2370.0            92.0       yes                 1978  1.330186   \n",
      "2      2636.0            67.0       yes                 1971  1.332242   \n",
      "3      2879.0           149.0       yes                 1993  1.370239   \n",
      "4      2636.0            68.0       yes                 1972  1.320502   \n",
      "5      2710.0           130.0       yes                 2001  1.387847   \n",
      "6      2710.0           110.0       yes                 2005  1.388997   \n",
      "7      2370.0            67.0       yes                 1978  1.366048   \n",
      "8      2465.0            84.0       yes                 1987  1.344279   \n",
      "9      2710.0           112.0       yes                 2003  1.392832   \n",
      "\n",
      "    longitude  elevation            subzone  planning_area             region  \\\n",
      "0  103.738630        0.0         yuhua east    jurong east        west region   \n",
      "1  103.938717        0.0        bedok north          bedok        east region   \n",
      "2  103.845643        0.0  toa payoh central      toa payoh     central region   \n",
      "3  103.962894        0.0    pasir ris drive      pasir ris        east region   \n",
      "4  103.863341        0.0          bendemeer        kallang     central region   \n",
      "5  103.764249        0.0            saujana  bukit panjang        west region   \n",
      "6  103.875148        0.0           fernvale       sengkang  north-east region   \n",
      "7  103.838123        0.0         shangri-la     ang mo kio  north-east region   \n",
      "8  103.855556        0.0        bishan east         bishan     central region   \n",
      "9  103.910620        0.0      punggol field        punggol  north-east region   \n",
      "\n",
      "   monthly_rent  \n",
      "0          1600  \n",
      "1          2250  \n",
      "2          1900  \n",
      "3          2850  \n",
      "4          2100  \n",
      "5          2300  \n",
      "6          2100  \n",
      "7          2300  \n",
      "8          2100  \n",
      "9          2100  \n"
     ]
    }
   ],
   "source": [
    "# Numeric encoding for flat_type\n",
    "clean_replace_numeric(df, 'flat_type', '2', 2)\n",
    "clean_replace_numeric(df, 'flat_type', '3', 3)\n",
    "clean_replace_numeric(df, 'flat_type', '4', 4)\n",
    "clean_replace_numeric(df, 'flat_type', '5', 5)\n",
    "clean_replace_numeric(df, 'flat_type', 'executive', 6)\n",
    "\n",
    "# Target encoding for flat_model\n",
    "target_encode(df, 'flat_model')\n",
    "\n",
    "# Perform other preprocessing steps...\n",
    "\n",
    "# Done preprocessing\n",
    "print(df.head(10))"
   ]
  },
  {
   "cell_type": "code",
   "execution_count": null,
   "id": "f1321b30-befa-424b-9769-1c479f3d6dd8",
   "metadata": {},
   "outputs": [],
   "source": []
  }
 ],
 "metadata": {
  "kernelspec": {
   "display_name": "Python 3 (ipykernel)",
   "language": "python",
   "name": "python3"
  },
  "language_info": {
   "codemirror_mode": {
    "name": "ipython",
    "version": 3
   },
   "file_extension": ".py",
   "mimetype": "text/x-python",
   "name": "python",
   "nbconvert_exporter": "python",
   "pygments_lexer": "ipython3",
   "version": "3.11.5"
  }
 },
 "nbformat": 4,
 "nbformat_minor": 5
}
