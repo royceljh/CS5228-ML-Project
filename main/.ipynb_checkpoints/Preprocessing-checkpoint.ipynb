{
 "cells": [
  {
   "cell_type": "code",
   "execution_count": 1,
   "id": "32ebaa23-5b2b-40a9-aea2-115b1167cee4",
   "metadata": {},
   "outputs": [],
   "source": [
    "%load_ext autoreload\n",
    "%autoreload 2\n",
    "%matplotlib inline"
   ]
  },
  {
   "cell_type": "code",
   "execution_count": 2,
   "id": "84ed07e8-885c-4906-853a-2bed788f5222",
   "metadata": {},
   "outputs": [],
   "source": [
    "import pandas as pd\n",
    "import numpy as np\n",
    "from utils import *"
   ]
  },
  {
   "cell_type": "code",
   "execution_count": 3,
   "id": "0b3fb10c-ef5f-496c-a417-4c873644a57a",
   "metadata": {},
   "outputs": [],
   "source": [
    "df = pd.read_csv('train.csv')"
   ]
  },
  {
   "cell_type": "code",
   "execution_count": null,
   "id": "ba6d2c2e-b1f3-4461-8f01-2d31e13baa26",
   "metadata": {},
   "outputs": [],
   "source": [
    "clean_replace_numeric(df, 'flat_type', '2', 2)\n",
    "clean_replace_numeric(df, 'flat_type', '3', 3)\n",
    "clean_replace_numeric(df, 'flat_type', '4', 4)\n",
    "clean_replace_numeric(df, 'flat_type', '5', 5)\n",
    "clean_replace_numeric(df, 'flat_type', 'executive', 6)\n"
   ]
  }
 ],
 "metadata": {
  "kernelspec": {
   "display_name": "Python 3 (ipykernel)",
   "language": "python",
   "name": "python3"
  },
  "language_info": {
   "codemirror_mode": {
    "name": "ipython",
    "version": 3
   },
   "file_extension": ".py",
   "mimetype": "text/x-python",
   "name": "python",
   "nbconvert_exporter": "python",
   "pygments_lexer": "ipython3",
   "version": "3.11.5"
  }
 },
 "nbformat": 4,
 "nbformat_minor": 5
}
