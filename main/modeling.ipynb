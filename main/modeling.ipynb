{
 "cells": [
  {
   "cell_type": "code",
   "execution_count": 1,
   "metadata": {},
   "outputs": [],
   "source": [
    "import pandas as pd\n",
    "from sklearn.model_selection import GridSearchCV\n",
    "from sklearn.model_selection import train_test_split\n",
    "from sklearn.pipeline import Pipeline\n",
    "import numpy as np\n",
    "import matplotlib.pyplot as plt"
   ]
  },
  {
   "cell_type": "code",
   "execution_count": 2,
   "metadata": {},
   "outputs": [],
   "source": [
    "# Load Datasets\n",
    "\n",
    "train = pd.read_csv('../data/train.csv')\n",
    "test = pd.read_csv('../data/test.csv')"
   ]
  },
  {
   "cell_type": "code",
   "execution_count": 3,
   "metadata": {},
   "outputs": [
    {
     "name": "stdout",
     "output_type": "stream",
     "text": [
      "<class 'pandas.core.frame.DataFrame'>\n",
      "RangeIndex: 60000 entries, 0 to 59999\n",
      "Data columns (total 16 columns):\n",
      " #   Column               Non-Null Count  Dtype  \n",
      "---  ------               --------------  -----  \n",
      " 0   rent_approval_date   60000 non-null  object \n",
      " 1   town                 60000 non-null  object \n",
      " 2   block                60000 non-null  object \n",
      " 3   street_name          60000 non-null  object \n",
      " 4   flat_type            60000 non-null  object \n",
      " 5   flat_model           60000 non-null  object \n",
      " 6   floor_area_sqm       60000 non-null  float64\n",
      " 7   furnished            60000 non-null  object \n",
      " 8   lease_commence_date  60000 non-null  int64  \n",
      " 9   latitude             60000 non-null  float64\n",
      " 10  longitude            60000 non-null  float64\n",
      " 11  elevation            60000 non-null  float64\n",
      " 12  subzone              60000 non-null  object \n",
      " 13  planning_area        60000 non-null  object \n",
      " 14  region               60000 non-null  object \n",
      " 15  monthly_rent         60000 non-null  int64  \n",
      "dtypes: float64(4), int64(2), object(10)\n",
      "memory usage: 7.3+ MB\n"
     ]
    }
   ],
   "source": [
    "train.info()"
   ]
  },
  {
   "cell_type": "code",
   "execution_count": 4,
   "metadata": {},
   "outputs": [],
   "source": [
    "train['rent_approval_date'] = pd.to_datetime(train['rent_approval_date'])"
   ]
  },
  {
   "cell_type": "code",
   "execution_count": 5,
   "metadata": {},
   "outputs": [
    {
     "name": "stdout",
     "output_type": "stream",
     "text": [
      "<class 'pandas.core.frame.DataFrame'>\n",
      "RangeIndex: 60000 entries, 0 to 59999\n",
      "Data columns (total 16 columns):\n",
      " #   Column               Non-Null Count  Dtype         \n",
      "---  ------               --------------  -----         \n",
      " 0   rent_approval_date   60000 non-null  datetime64[ns]\n",
      " 1   town                 60000 non-null  object        \n",
      " 2   block                60000 non-null  object        \n",
      " 3   street_name          60000 non-null  object        \n",
      " 4   flat_type            60000 non-null  object        \n",
      " 5   flat_model           60000 non-null  object        \n",
      " 6   floor_area_sqm       60000 non-null  float64       \n",
      " 7   furnished            60000 non-null  object        \n",
      " 8   lease_commence_date  60000 non-null  int64         \n",
      " 9   latitude             60000 non-null  float64       \n",
      " 10  longitude            60000 non-null  float64       \n",
      " 11  elevation            60000 non-null  float64       \n",
      " 12  subzone              60000 non-null  object        \n",
      " 13  planning_area        60000 non-null  object        \n",
      " 14  region               60000 non-null  object        \n",
      " 15  monthly_rent         60000 non-null  int64         \n",
      "dtypes: datetime64[ns](1), float64(4), int64(2), object(9)\n",
      "memory usage: 7.3+ MB\n"
     ]
    }
   ],
   "source": [
    "train.info()"
   ]
  },
  {
   "cell_type": "code",
   "execution_count": null,
   "metadata": {},
   "outputs": [],
   "source": []
  },
  {
   "cell_type": "markdown",
   "metadata": {},
   "source": [
    "street_name\tJurong East Street 24\tbedok north road\tlorong 1 toa payoh\tPasir Ris Street 21\tWhampoa West\n",
    "flat_type\t3\t4\t3\t6\t3\n",
    "flat_model\t2370\t2370\t2636\t2879\t2636\n",
    "floor_area_sqm\t67.0\t92.0\t67.0\t149.0\t68.0\n",
    "lease_commence_date\t1983\t1978\t1971\t1993\t1972\n",
    "latitude\t1.344518\t1.330186\t1.332242\t1.370239\t1.320502\n",
    "longitude\t103.73863\t103.938717\t103.845643\t103.962894\t103.863341\n",
    "subzone\tyuhua east\tbedok north\ttoa payoh central\tpasir ris drive\tbendemeer\n",
    "planning_area\tjurong east\tbedok\ttoa payoh\tpasir ris\tkallang\n",
    "region\twest region\teast region\tcentral region\teast region\tcentral region\n",
    "monthly_rent\t1600\t2250\t1900\t2850\t2100\n",
    "dist_mrt_exist\t0.006289\t0.008087\t0.001966\t0.013908\t0.00169\n",
    "dist_mrt_planned\t0.006071\t0.008135\t0.010649\t0.004643\t0.025345\n",
    "dist_primary_school\t"
   ]
  }
 ],
 "metadata": {
  "kernelspec": {
   "display_name": "school",
   "language": "python",
   "name": "python3"
  },
  "language_info": {
   "codemirror_mode": {
    "name": "ipython",
    "version": 3
   },
   "file_extension": ".py",
   "mimetype": "text/x-python",
   "name": "python",
   "nbconvert_exporter": "python",
   "pygments_lexer": "ipython3",
   "version": "3.10.13"
  }
 },
 "nbformat": 4,
 "nbformat_minor": 2
}
